{
 "cells": [
  {
   "cell_type": "markdown",
   "metadata": {},
   "source": [
    "#### Binary Tree Right Side View"
   ]
  },
  {
   "cell_type": "code",
   "execution_count": null,
   "metadata": {},
   "outputs": [],
   "source": [
    "from collections import deque\n",
    "class Solution:\n",
    "    def rightSideView(self, root: TreeNode) -> List[int]:\n",
    "        output = []\n",
    "       \n",
    "        right_most = dict()\n",
    "        max_deep = -1\n",
    "        queue = deque([(root,0)])\n",
    "        while queue:\n",
    "            \n",
    "            node, depth = queue.popleft()\n",
    "            \n",
    "            if node is not None:\n",
    "                max_deep = max(depth,max_deep)\n",
    "                \n",
    "                right_most[depth] = node.val\n",
    "                \n",
    "                queue.append((node.left,depth+1))\n",
    "                queue.append((node.right,depth+1))\n",
    "                \n",
    "        \n",
    "        return [right_most[depth] for depth in range(max_deep+1)]\n",
    "            "
   ]
  },
  {
   "cell_type": "markdown",
   "metadata": {},
   "source": [
    "#### Restore IP Address:"
   ]
  },
  {
   "cell_type": "code",
   "execution_count": null,
   "metadata": {},
   "outputs": [],
   "source": [
    "class Solution:\n",
    "    def restoreIpAddresses(self, s: str) -> List[str]:\n",
    "        \n",
    "        if len(s)>12: return []\n",
    "        def check(s): return 0 <= int(s) <= 255 and str(int(s)) == s\n",
    "        return [s[:i] + \".\" + s[i:j] + \".\" + s[j:k] + \".\" + s[k:] \n",
    "                for i,j,k in itertools.combinations(range(1, len(s)),3)\n",
    "                if check(s[:i]) and check(s[i:j]) and check(s[j:k]) and check(s[k:])]"
   ]
  },
  {
   "cell_type": "markdown",
   "metadata": {},
   "source": [
    "#### Binary tree inorder traversal"
   ]
  },
  {
   "cell_type": "code",
   "execution_count": null,
   "metadata": {},
   "outputs": [],
   "source": [
    "# Definition for a binary tree node.\n",
    "# class TreeNode:\n",
    "#     def __init__(self, x):\n",
    "#         self.val = x\n",
    "#         self.left = None\n",
    "#         self.right = None\n",
    "\n",
    "class Solution:\n",
    "    def inorderTraversal(self, root: TreeNode) -> List[int]:\n",
    "        if not root:\n",
    "            return []\n",
    "        G = []\n",
    "        node = root\n",
    "        left_stack = []\n",
    "        while node or left_stack:\n",
    "            while node:\n",
    "                left_stack.append(node)\n",
    "                node = node.left\n",
    "            node = left_stack.pop()\n",
    "            G.append(node.val)\n",
    "            node = node.right\n",
    "        return G"
   ]
  },
  {
   "cell_type": "markdown",
   "metadata": {},
   "source": [
    "#### Sort Colors"
   ]
  },
  {
   "cell_type": "code",
   "execution_count": null,
   "metadata": {},
   "outputs": [],
   "source": [
    "class Solution:\n",
    "    def sortColors(self, nums: List[int]) -> None:\n",
    "        \"\"\"\n",
    "        Do not return anything, modify nums in-place instead.\n",
    "        \"\"\"\n",
    "        buckets = set(nums)\n",
    "        buckets = {x:0 for x in buckets}\n",
    "       \n",
    "        for i in nums:\n",
    "            if(i in buckets):\n",
    "                buckets[i] = buckets[i] + 1\n",
    "        \n",
    "        \n",
    "        lis = []\n",
    "        a = lambda key,value : [key] * value\n",
    "        for key,value in buckets.items():\n",
    "            lis = lis + (a(key,value))\n",
    "            \n",
    "\n",
    "        for j in range(0,len(nums)):\n",
    "            nums[j] = lis[j]\n",
    "            \n",
    "        # print(nums)"
   ]
  },
  {
   "cell_type": "markdown",
   "metadata": {},
   "source": [
    "#### Combinations"
   ]
  },
  {
   "cell_type": "code",
   "execution_count": null,
   "metadata": {},
   "outputs": [],
   "source": [
    "from itertools import combinations\n",
    "class Solution:\n",
    "    def combine(self, n: int, k: int) -> List[List[int]]:\n",
    "        \n",
    "        num = [x+1 for x in range(0,n)]\n",
    "        comb = combinations(num, k) \n",
    "        main = []\n",
    "        # Print the obtained combinations \n",
    "        for i in list(comb): \n",
    "            main.append(list(i))\n",
    "        return main"
   ]
  },
  {
   "cell_type": "markdown",
   "metadata": {},
   "source": [
    "#### Set matrix zeroes"
   ]
  },
  {
   "cell_type": "code",
   "execution_count": null,
   "metadata": {},
   "outputs": [],
   "source": [
    "class Solution:\n",
    "    def setZeroes(self, matrix: List[List[int]]) -> None:\n",
    "        \"\"\"\n",
    "        Do not return anything, modify matrix in-place instead.\n",
    "        \"\"\"\n",
    "        j =0\n",
    "        index_lis = []\n",
    "        for i in range(0,len(matrix)):\n",
    "            \n",
    "          for j in range(0,len(matrix[i])):\n",
    "            \n",
    "            if(matrix[i][j] == 0):\n",
    "                index_lis.append([i,j])\n",
    "\n",
    "          if(0 in matrix[i]):\n",
    "                matrix[i] = [0 for x in matrix[i]]\n",
    "        ind_lis = [x[1] for x in index_lis]\n",
    "        \n",
    "        for i in ind_lis:\n",
    "            for j in range(0,len(matrix)):\n",
    "                matrix[j][i] = 0"
   ]
  },
  {
   "cell_type": "markdown",
   "metadata": {},
   "source": [
    "#### Water and Jug Problem"
   ]
  },
  {
   "cell_type": "code",
   "execution_count": null,
   "metadata": {},
   "outputs": [],
   "source": [
    "class Solution(object):\n",
    "    def canMeasureWater(self, x, y, z):\n",
    "\n",
    "        return x + y == z or x + y > z and z % math.gcd(x, y) == 0\n"
   ]
  },
  {
   "cell_type": "markdown",
   "metadata": {},
   "source": [
    "#### Unique Paths II\t"
   ]
  },
  {
   "cell_type": "code",
   "execution_count": null,
   "metadata": {},
   "outputs": [],
   "source": [
    "class Solution(object):\n",
    "    def uniquePathsWithObstacles(self, obstacleGrid):\n",
    "        \"\"\"\n",
    "        :type obstacleGrid: List[List[int]]\n",
    "        :rtype: int\n",
    "        \"\"\"\n",
    "\n",
    "        m = len(obstacleGrid)\n",
    "        n = len(obstacleGrid[0])\n",
    "\n",
    "        if obstacleGrid[0][0] == 1:\n",
    "            return 0\n",
    "        \n",
    "        obstacleGrid[0][0] = 1\n",
    "\n",
    "        for i in range(1,m):\n",
    "            obstacleGrid[i][0] = int(obstacleGrid[i][0] == 0 and obstacleGrid[i-1][0] == 1)\n",
    "\n",
    "       \n",
    "        for j in range(1, n):\n",
    "            obstacleGrid[0][j] = int(obstacleGrid[0][j] == 0 and obstacleGrid[0][j-1] == 1)\n",
    "\n",
    "        for i in range(1,m):\n",
    "            for j in range(1,n):\n",
    "                if obstacleGrid[i][j] == 0:\n",
    "                    obstacleGrid[i][j] = obstacleGrid[i-1][j] + obstacleGrid[i][j-1]\n",
    "                else:\n",
    "                    obstacleGrid[i][j] = 0\n",
    "\n",
    "        # Return value stored in rightmost bottommost cell. That is the destination.            \n",
    "        return obstacleGrid[m-1][n-1]"
   ]
  },
  {
   "cell_type": "markdown",
   "metadata": {},
   "source": [
    "#### Permutation Sequence"
   ]
  },
  {
   "cell_type": "code",
   "execution_count": null,
   "metadata": {},
   "outputs": [],
   "source": [
    "from itertools import permutations\n",
    "class Solution:\n",
    "    def getPermutation(self, n: int, k: int) -> str:\n",
    "        l = list(permutations(range(1, n+1)))\n",
    "        \n",
    "        for i,value in enumerate(l, start=1):\n",
    "            \n",
    "            if(i == k):\n",
    "                # print(value)\n",
    "                act = list(value)\n",
    "                act = [str(x) for x in act]\n",
    "                \n",
    "                return \"\".join(act)"
   ]
  },
  {
   "cell_type": "markdown",
   "metadata": {},
   "source": [
    "#### Merge intervals"
   ]
  },
  {
   "cell_type": "code",
   "execution_count": null,
   "metadata": {},
   "outputs": [],
   "source": [
    "class Solution(object):\n",
    "    def merge(self, intervals):\n",
    "        \"\"\"\n",
    "        :type intervals: List[List[int]]\n",
    "        :rtype: List[List[int]]\n",
    "        \"\"\"\n",
    "        intervals.sort()\n",
    "        answer = []\n",
    "        for i in range(len(intervals)):\n",
    "            self.push_back(answer, intervals[i])\n",
    "        return answer\n",
    "    def push_back(self, answer, interval):\n",
    "        if len(answer) == 0:\n",
    "            answer.append(interval)\n",
    "            return\n",
    "        if len(answer) > 0 and answer[-1][1] >= interval[0]:\n",
    "            answer[-1][1] = max(interval[1], answer[-1][1])\n",
    "        else:\n",
    "            answer.append(interval)"
   ]
  },
  {
   "cell_type": "markdown",
   "metadata": {},
   "source": [
    "#### Jump Game"
   ]
  },
  {
   "cell_type": "code",
   "execution_count": null,
   "metadata": {},
   "outputs": [],
   "source": [
    "class Solution:\n",
    "    def canJump(self, nums: List[int]) -> bool:\n",
    "        maxreach=0\n",
    "        for i in range(len(nums)):\n",
    "            if(i<=maxreach):\n",
    "                maxreach=max(maxreach,nums[i]+i)\n",
    "            \n",
    "            # print(maxreach)\n",
    "        if(maxreach>=len(nums)-1):\n",
    "            return True\n",
    "        else:\n",
    "            return False\n",
    "                    \n",
    "                    "
   ]
  },
  {
   "cell_type": "markdown",
   "metadata": {},
   "source": [
    "#### First and Last position of element in Sorted Array"
   ]
  },
  {
   "cell_type": "code",
   "execution_count": null,
   "metadata": {},
   "outputs": [],
   "source": [
    "class Solution:\n",
    "    def searchRange(self, nums: List[int], target: int) -> List[int]:\n",
    "        \n",
    "        for i in range(len(nums)):\n",
    "            if nums[i] == target:\n",
    "                left_idx = i\n",
    "                break\n",
    "        else:\n",
    "            return [-1, -1]\n",
    "\n",
    "        \n",
    "        for j in range(len(nums)-1, -1, -1):\n",
    "            if nums[j] == target:\n",
    "                right_idx = j\n",
    "                break\n",
    "\n",
    "        return [left_idx, right_idx]\n",
    "        "
   ]
  },
  {
   "cell_type": "markdown",
   "metadata": {},
   "source": [
    "#### Search in rotated sort Array"
   ]
  },
  {
   "cell_type": "code",
   "execution_count": null,
   "metadata": {},
   "outputs": [],
   "source": [
    "class Solution:\n",
    "    def search(self, nums: List[int], target: int) -> int:\n",
    "        counter = -1\n",
    "        for i in nums:\n",
    "            counter = counter+1\n",
    "            if(i == target):\n",
    "                return counter\n",
    "            \n",
    "            else:\n",
    "                pass\n",
    "            \n",
    "        return -1\n",
    "                "
   ]
  },
  {
   "cell_type": "markdown",
   "metadata": {},
   "source": [
    "#### Divide Two Integers"
   ]
  },
  {
   "cell_type": "code",
   "execution_count": null,
   "metadata": {},
   "outputs": [],
   "source": [
    "from math import log10\n",
    "\n",
    "class Solution:\n",
    "    def divide(self, D: int, d: int) -> int:\n",
    "    \tD, d, s, t = abs(D), abs(d), (D>0)-(D<0), (d>0)-(d<0)\n",
    "    \tif D < d: return 0\n",
    "    \ta = int(round(10**(log10(D) - log10(d)),3))\n",
    "    \treturn min(a,2**31 - 1) if s > 0 and t > 0 or s < 0 and t < 0 else max(0 - a, 0 - 2**31)\n"
   ]
  },
  {
   "cell_type": "markdown",
   "metadata": {},
   "source": [
    "## Generate Parentheses"
   ]
  },
  {
   "cell_type": "code",
   "execution_count": null,
   "metadata": {},
   "outputs": [],
   "source": [
    "class Solution:\n",
    "    def generateParenthesis(self, n: int) -> List[str]:\n",
    "        \n",
    "        def backtrack(combination, opened, closed):\n",
    "            if(closed == n):\n",
    "                output.append(combination)\n",
    "                \n",
    "            else:\n",
    "                if(opened < n):\n",
    "                    backtrack(combination+\"(\",opened+1,closed)\n",
    "                if(closed < opened):\n",
    "                    backtrack(combination+\")\",opened,closed+1)\n",
    "        output = []\n",
    "        if n>0:\n",
    "            backtrack(\"(\", 1, 0)\n",
    "        return output"
   ]
  },
  {
   "cell_type": "markdown",
   "metadata": {},
   "source": [
    "#### Letter Combinations of a Phone Number"
   ]
  },
  {
   "cell_type": "code",
   "execution_count": null,
   "metadata": {},
   "outputs": [],
   "source": [
    "class Solution:\n",
    "    def letterCombinations(self, digits):\n",
    "        \"\"\"\n",
    "        :type digits: str\n",
    "        :rtype: List[str]\n",
    "        \"\"\"\n",
    "        phone = {'2': ['a', 'b', 'c'],\n",
    "                 '3': ['d', 'e', 'f'],\n",
    "                 '4': ['g', 'h', 'i'],\n",
    "                 '5': ['j', 'k', 'l'],\n",
    "                 '6': ['m', 'n', 'o'],\n",
    "                 '7': ['p', 'q', 'r', 's'],\n",
    "                 '8': ['t', 'u', 'v'],\n",
    "                 '9': ['w', 'x', 'y', 'z']}\n",
    "                \n",
    "        def backtrack(combination, next_digits):\n",
    "            # if there is no more digits to check\n",
    "            if len(next_digits) == 0:\n",
    "                # the combination is done\n",
    "                output.append(combination)\n",
    "            # if there are still digits to check\n",
    "            else:\n",
    "                # iterate over all letters which map \n",
    "                # the next available digit\n",
    "                for letter in phone[next_digits[0]]:\n",
    "                    # append the current letter to the combination\n",
    "                    # and proceed to the next digits\n",
    "                    backtrack(combination + letter, next_digits[1:])\n",
    "                    \n",
    "        output = []\n",
    "        if digits:\n",
    "            backtrack(\"\", digits)\n",
    "        return output"
   ]
  },
  {
   "cell_type": "markdown",
   "metadata": {},
   "source": [
    "#### 3Sum"
   ]
  },
  {
   "cell_type": "code",
   "execution_count": null,
   "metadata": {},
   "outputs": [],
   "source": [
    "class Solution:\n",
    "    def threeSum(self, nums: List[int]) -> List[List[int]]:\n",
    "        res = set()\n",
    "        dic = {}\n",
    "        nums.sort()\n",
    "        \n",
    "        for i in range(len(nums)):\n",
    "            dic.get(nums[i],i)\n",
    "            dic[nums[i]] = i\n",
    "            \n",
    "        \n",
    "        \n",
    "        for i in range(len(nums)-2):\n",
    "            if nums[i]>0:\n",
    "                    return res\n",
    "            for j in range(i+1, len(nums)): \n",
    "                a = nums[i]\n",
    "                b = nums[j]\n",
    "                c = a+b\n",
    "                \n",
    "                if c>0:\n",
    "                    break\n",
    "                \n",
    "                if -c in dic and dic[-c]>j:\n",
    "                    res.add((a,b,-c))\n",
    "                             \n",
    "        return res"
   ]
  },
  {
   "cell_type": "markdown",
   "metadata": {},
   "source": [
    "#### \tContainer With Most Water"
   ]
  },
  {
   "cell_type": "code",
   "execution_count": null,
   "metadata": {},
   "outputs": [],
   "source": [
    "class Solution:\n",
    "    def maxArea(self, height: List[int]) -> int:\n",
    "        water = 0\n",
    "        i =0\n",
    "        j = len(height) - 1\n",
    "        for index in range(len(height)):\n",
    "           \n",
    "            width = j-i\n",
    "            if(height[i] < height[j]):\n",
    "                res = height[i] * width\n",
    "                i=i+1\n",
    "            else:\n",
    "                res = (height[j] * width)\n",
    "\n",
    "                j=j-1\n",
    "\n",
    "            if(water< res):\n",
    "                water = res\n",
    "        return water"
   ]
  },
  {
   "cell_type": "markdown",
   "metadata": {},
   "source": [
    "#### Longest Palindromic Substring"
   ]
  },
  {
   "cell_type": "code",
   "execution_count": null,
   "metadata": {},
   "outputs": [],
   "source": [
    "class Solution:\n",
    "    def longestPalindrome(self, s: str) -> str:\n",
    "        m = ''  # Memory to remember a palindrome\n",
    "        for i in range(len(s)):  # i = start, O = n\n",
    "            for j in range(len(s), i, -1):  # j = end, O = n^2\n",
    "                if len(m) >= j-i:  # To reduce time\n",
    "                    break\n",
    "                elif s[i:j] == s[i:j][::-1]:\n",
    "                    m = s[i:j]\n",
    "                    break\n",
    "        return m"
   ]
  },
  {
   "cell_type": "markdown",
   "metadata": {},
   "source": [
    "#### Add Two Numbers"
   ]
  },
  {
   "cell_type": "code",
   "execution_count": null,
   "metadata": {},
   "outputs": [],
   "source": [
    "# Definition for singly-linked list.\n",
    "# class ListNode:\n",
    "#     def __init__(self, x):\n",
    "#         self.val = x\n",
    "#         self.next = None\n",
    "\n",
    "class Solution:\n",
    "    def addTwoNumbers(self, l1, l2 ,c = 0):\n",
    "        \"\"\"\n",
    "        :type l1: ListNode\n",
    "        :type l2: ListNode\n",
    "        :rtype: ListNode\n",
    "        \"\"\"\n",
    "        val = l1.val + l2.val + c\n",
    "        c = val // 10\n",
    "        ret = ListNode(val % 10 ) \n",
    "        \n",
    "        if (l1.next != None or l2.next != None or c != 0):\n",
    "            if l1.next == None:\n",
    "                l1.next = ListNode(0)\n",
    "            if l2.next == None:\n",
    "                l2.next = ListNode(0)\n",
    "            ret.next = self.addTwoNumbers(l1.next,l2.next,c)\n",
    "        return ret"
   ]
  },
  {
   "cell_type": "markdown",
   "metadata": {},
   "source": [
    "#### Two Sum"
   ]
  },
  {
   "cell_type": "code",
   "execution_count": null,
   "metadata": {},
   "outputs": [],
   "source": [
    "class Solution:\n",
    "    def twoSum(self, nums: List[int], target: int) -> List[int]:\n",
    "        for i in range(0,len(nums)):\n",
    "            first = nums[i]\n",
    "            difference = target - first\n",
    "            \n",
    "            if(difference in nums[i+1:]):\n",
    "                \n",
    "                second = nums[i+1:].index(difference) + i+1\n",
    "\n",
    "                return [i,second]\n",
    "                break\n",
    "            else:\n",
    "                continue\n",
    "        \n",
    "        "
   ]
  }
 ],
 "metadata": {
  "kernelspec": {
   "display_name": "Python 3",
   "language": "python",
   "name": "python3"
  },
  "language_info": {
   "codemirror_mode": {
    "name": "ipython",
    "version": 3
   },
   "file_extension": ".py",
   "mimetype": "text/x-python",
   "name": "python",
   "nbconvert_exporter": "python",
   "pygments_lexer": "ipython3",
   "version": "3.7.3"
  }
 },
 "nbformat": 4,
 "nbformat_minor": 2
}
